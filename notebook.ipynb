{
 "cells": [
  {
   "cell_type": "code",
   "execution_count": 1,
   "id": "d6ff24a1",
   "metadata": {},
   "outputs": [],
   "source": [
    "import pandas as pd\n",
    "import numpy as np\n",
    "import matplotlib.pyplot as plt\n",
    "import seaborn as sn\n",
    "import warnings\n",
    "warnings.filterwarnings('ignore')"
   ]
  },
  {
   "cell_type": "code",
   "execution_count": 2,
   "id": "50d95ff6",
   "metadata": {},
   "outputs": [],
   "source": [
    "df=pd.read_csv('frogs_climate_data.csv')"
   ]
  },
  {
   "cell_type": "code",
   "execution_count": 3,
   "id": "27eb226e",
   "metadata": {},
   "outputs": [
    {
     "name": "stdout",
     "output_type": "stream",
     "text": [
      "<class 'pandas.core.frame.DataFrame'>\n",
      "RangeIndex: 8041 entries, 0 to 8040\n",
      "Data columns (total 15 columns):\n",
      " #   Column            Non-Null Count  Dtype  \n",
      "---  ------            --------------  -----  \n",
      " 0   aet_mean          8041 non-null   float64\n",
      " 1   def_mean          8041 non-null   float64\n",
      " 2   pdsi_mean         8041 non-null   float64\n",
      " 3   ppt_mean          8041 non-null   float64\n",
      " 4   soil_mean         8041 non-null   float64\n",
      " 5   tmax_mean         8041 non-null   float64\n",
      " 6   tmin_mean         8041 non-null   float64\n",
      " 7   pet_mean          8041 non-null   float64\n",
      " 8   q_mean            8041 non-null   float64\n",
      " 9   srad_mean         8041 non-null   float64\n",
      " 10  swe_mean          8041 non-null   float64\n",
      " 11  vap_mean          8041 non-null   float64\n",
      " 12  vpd_mean          8041 non-null   float64\n",
      " 13  ws_mean           8041 non-null   float64\n",
      " 14  occurrenceStatus  8041 non-null   int64  \n",
      "dtypes: float64(14), int64(1)\n",
      "memory usage: 942.4 KB\n"
     ]
    }
   ],
   "source": [
    "df.info()"
   ]
  },
  {
   "cell_type": "code",
   "execution_count": 4,
   "id": "32f57bb0",
   "metadata": {},
   "outputs": [],
   "source": [
    "vars=['aet_mean', 'def_mean', 'pdsi_mean', 'ppt_mean', 'soil_mean','tmax_mean', 'tmin_mean',\n",
    "      'pet_mean', 'q_mean', 'srad_mean', 'swe_mean', 'vap_mean', 'vpd_mean', 'ws_mean']"
   ]
  },
  {
   "cell_type": "code",
   "execution_count": 5,
   "id": "86e7847a",
   "metadata": {},
   "outputs": [],
   "source": [
    "df['occurrenceStatus']=df['occurrenceStatus'].astype(int)"
   ]
  },
  {
   "cell_type": "code",
   "execution_count": 6,
   "id": "d3902565",
   "metadata": {},
   "outputs": [
    {
     "name": "stdout",
     "output_type": "stream",
     "text": [
      "Null values in the dataset: 0\n",
      "Duplicates values in the dataset: 0\n"
     ]
    }
   ],
   "source": [
    "print(f'Null values in the dataset: {df.isnull().sum().sum()}')\n",
    "print(f'Duplicates values in the dataset: {df.duplicated().sum().sum()}')"
   ]
  },
  {
   "cell_type": "markdown",
   "id": "1ad43acb",
   "metadata": {},
   "source": [
    "# Exploratory Data Analysis"
   ]
  },
  {
   "cell_type": "markdown",
   "id": "fe5d4eac",
   "metadata": {},
   "source": [
    "## Target Distribution"
   ]
  },
  {
   "cell_type": "code",
   "execution_count": 7,
   "id": "092aeaa3",
   "metadata": {},
   "outputs": [
    {
     "data": {
      "text/plain": [
       "occurrenceStatus\n",
       "0    5524\n",
       "1    2517\n",
       "Name: count, dtype: int64"
      ]
     },
     "execution_count": 7,
     "metadata": {},
     "output_type": "execute_result"
    }
   ],
   "source": [
    "df['occurrenceStatus'].value_counts()"
   ]
  },
  {
   "cell_type": "code",
   "execution_count": 8,
   "id": "9da6de9a",
   "metadata": {},
   "outputs": [
    {
     "data": {
      "image/png": "[encoded data removed]",
      "text/plain": [
       "<Figure size 360x360 with 1 Axes>"
      ]
     },
     "metadata": {
      "needs_background": "light"
     },
     "output_type": "display_data"
    }
   ],
   "source": [
    "plt.figure(figsize=(5, 5))\n",
    "sn.countplot(x= df['occurrenceStatus'],order = df['occurrenceStatus'].value_counts().index)\n",
    "plt.title('Distribution Target Variable\\n')\n",
    "plt.show()"
   ]
  },
  {
   "cell_type": "markdown",
   "id": "9ea9b60d",
   "metadata": {},
   "source": [
    "Target variable has imbalanced distribution. "
   ]
  },
  {
   "cell_type": "markdown",
   "id": "2a34ce0c",
   "metadata": {},
   "source": [
    "## Correlation between Target Variable and Features"
   ]
  },
  {
   "cell_type": "code",
   "execution_count": 9,
   "id": "25b2f79d",
   "metadata": {},
   "outputs": [
    {
     "data": {
      "text/plain": [
       "vap_mean     0.578383\n",
       "tmin_mean    0.477386\n",
       "aet_mean     0.474908\n",
       "tmax_mean    0.458989\n",
       "ppt_mean     0.388445\n",
       "soil_mean    0.356286\n",
       "srad_mean    0.320153\n",
       "pet_mean     0.243057\n",
       "q_mean       0.192362\n",
       "pdsi_mean    0.186116\n",
       "vpd_mean     0.087253\n",
       "swe_mean    -0.039289\n",
       "def_mean    -0.199639\n",
       "ws_mean     -0.225059\n",
       "Name: occurrenceStatus, dtype: float64"
      ]
     },
     "execution_count": 9,
     "metadata": {},
     "output_type": "execute_result"
    }
   ],
   "source": [
    "df.corr()['occurrenceStatus'].sort_values(ascending=False)[1:]"
   ]
  },
  {
   "cell_type": "code",
   "execution_count": 10,
   "id": "f8375335",
   "metadata": {},
   "outputs": [
    {
     "data": {
      "image/png": "[encoded data removed]",
      "text/plain": [
       "<Figure size 1224x72 with 2 Axes>"
      ]
     },
     "metadata": {
      "needs_background": "light"
     },
     "output_type": "display_data"
    }
   ],
   "source": [
    "f, ax = plt.subplots(figsize=(17,1))\n",
    "\n",
    "sn.heatmap(df.corr().sort_values(by=['occurrenceStatus'], ascending=False).head(1), cmap='Reds')\n",
    "plt.title('Features Correlation with Target', weight='bold', fontsize=18)\n",
    "plt.xticks(weight='bold')\n",
    "plt.yticks(weight='bold', color='red', rotation=0)\n",
    "plt.show()"
   ]
  },
  {
   "cell_type": "markdown",
   "id": "4cb1a794",
   "metadata": {},
   "source": [
    "## Features Distribution"
   ]
  },
  {
   "cell_type": "code",
   "execution_count": 11,
   "id": "2860a9c6",
   "metadata": {},
   "outputs": [
    {
     "data": {
      "image/png": "[encoded data removed]",
      "text/plain": [
       "<Figure size 720x1440 with 14 Axes>"
      ]
     },
     "metadata": {
      "needs_background": "light"
     },
     "output_type": "display_data"
    }
   ],
   "source": [
    "plt.figure(figsize=(10,20))\n",
    "for ind, value in enumerate(df[vars]):\n",
    "    plt.subplot(7, 2, ind + 1)\n",
    "    plt.title(value)\n",
    "    sn.distplot(df[vars].loc[:, value], axlabel=False)\n",
    "    plt.tight_layout()"
   ]
  },
  {
   "cell_type": "markdown",
   "id": "3fa7c29b",
   "metadata": {},
   "source": [
    "### Log Transformation"
   ]
  },
  {
   "cell_type": "markdown",
   "id": "6f6ddf10",
   "metadata": {},
   "source": [
    "The features 'q_mean', 'ppt_mean' and 'vpd_mean' are right-skewed, we will transform these features by function np.log1p"
   ]
  },
  {
   "cell_type": "code",
   "execution_count": 12,
   "id": "91333a98",
   "metadata": {},
   "outputs": [
    {
     "data": {
      "image/png": "[encoded data removed]",
      "text/plain": [
       "<Figure size 432x288 with 1 Axes>"
      ]
     },
     "metadata": {
      "needs_background": "light"
     },
     "output_type": "display_data"
    }
   ],
   "source": [
    "df['q_mean']=np.log1p(df['q_mean'])\n",
    "sn.distplot(df['q_mean'])\n",
    "plt.title('Distribution q_mean after transformation')\n",
    "plt.show()"
   ]
  },
  {
   "cell_type": "code",
   "execution_count": 13,
   "id": "97a245ba",
   "metadata": {},
   "outputs": [
    {
     "data": {
      "image/png": "[encoded data removed]",
      "text/plain": [
       "<Figure size 432x288 with 1 Axes>"
      ]
     },
     "metadata": {
      "needs_background": "light"
     },
     "output_type": "display_data"
    }
   ],
   "source": [
    "df['ppt_mean']=np.log1p(df['ppt_mean'])\n",
    "sn.distplot(df['ppt_mean'])\n",
    "plt.title('Distribution ppt_mean after transformation')\n",
    "plt.show()"
   ]
  },
  {
   "cell_type": "code",
   "execution_count": 14,
   "id": "c4f25b28",
   "metadata": {},
   "outputs": [
    {
     "data": {
      "image/png": "[encoded data removed]",
      "text/plain": [
       "<Figure size 432x288 with 1 Axes>"
      ]
     },
     "metadata": {
      "needs_background": "light"
     },
     "output_type": "display_data"
    }
   ],
   "source": [
    "df['vpd_mean']=np.log1p(df['vpd_mean'])\n",
    "sn.distplot(df['vpd_mean'])\n",
    "plt.title('Distribution vpd_mean after transformation')\n",
    "plt.show()"
   ]
  },
  {
   "cell_type": "markdown",
   "id": "8b626ca9",
   "metadata": {},
   "source": [
    "### Eliminate feature 'swe_mean'"
   ]
  },
  {
   "cell_type": "markdown",
   "id": "604c851b",
   "metadata": {},
   "source": [
    "The feature 'swe_mean' has 97.8% of a single value. We will eliminate this feature"
   ]
  },
  {
   "cell_type": "code",
   "execution_count": 15,
   "id": "0756d32f",
   "metadata": {},
   "outputs": [
    {
     "data": {
      "text/plain": [
       "swe_mean\n",
       "0.0000    97.811218\n",
       "0.0083     0.186544\n",
       "0.0167     0.087054\n",
       "0.0333     0.074618\n",
       "0.0500     0.037309\n",
       "Name: proportion, dtype: float64"
      ]
     },
     "execution_count": 15,
     "metadata": {},
     "output_type": "execute_result"
    }
   ],
   "source": [
    "df['swe_mean']= round(df['swe_mean'],4)\n",
    "df['swe_mean'].value_counts('%').head()*100"
   ]
  },
  {
   "cell_type": "code",
   "execution_count": 16,
   "id": "f3e41030",
   "metadata": {},
   "outputs": [
    {
     "data": {
      "image/png": "[encoded data removed]",
      "text/plain": [
       "<Figure size 576x288 with 1 Axes>"
      ]
     },
     "metadata": {
      "needs_background": "light"
     },
     "output_type": "display_data"
    }
   ],
   "source": [
    "plt.figure(figsize=(8, 4))\n",
    "sn.countplot(x= df['swe_mean'], order = df['swe_mean'].value_counts().head().index)\n",
    "plt.title('Distribution Feature swe_mean\\n')\n",
    "plt.show()"
   ]
  },
  {
   "cell_type": "code",
   "execution_count": 17,
   "id": "6f6de36d",
   "metadata": {},
   "outputs": [],
   "source": [
    "df=df.drop(columns=['swe_mean'])"
   ]
  },
  {
   "cell_type": "markdown",
   "id": "6d720660",
   "metadata": {},
   "source": [
    "### Correlation between features"
   ]
  },
  {
   "cell_type": "code",
   "execution_count": 18,
   "id": "991da4ac",
   "metadata": {},
   "outputs": [],
   "source": [
    "vars=['aet_mean', 'def_mean', 'pdsi_mean', 'ppt_mean', 'soil_mean','tmax_mean', 'tmin_mean',\n",
    "      'pet_mean', 'q_mean', 'srad_mean', 'vap_mean', 'vpd_mean', 'ws_mean']"
   ]
  },
  {
   "cell_type": "code",
   "execution_count": 19,
   "id": "d32c1612",
   "metadata": {},
   "outputs": [
    {
     "data": {
      "image/png": "[encoded data removed]",
      "text/plain": [
       "<Figure size 864x864 with 2 Axes>"
      ]
     },
     "metadata": {
      "needs_background": "light"
     },
     "output_type": "display_data"
    }
   ],
   "source": [
    "corr = df[vars].corr(method = \"spearman\")\n",
    "plt.figure(figsize = (12, 12))\n",
    "mask = np.zeros_like(corr)\n",
    "mask[np.triu_indices_from(mask)] = True\n",
    "sn.heatmap(corr, mask = mask, cmap = \"magma\", annot = True, annot_kws = {'size': 9})\n",
    "plt.title(\"Full dataset correlation matrix\", fontsize = 12, fontweight = \"bold\")\n",
    "plt.show()"
   ]
  },
  {
   "cell_type": "markdown",
   "metadata": {},
   "source": [
    "Since the correlation values between any two variables is not greater than 90%, none of the attributes were removed."
   ]
  },
  {
   "cell_type": "markdown",
   "id": "6c73481e",
   "metadata": {},
   "source": [
    "# Train Models"
   ]
  },
  {
   "cell_type": "markdown",
   "id": "2f7780ad",
   "metadata": {},
   "source": [
    "We will train the following 3 models, with cross-validation:\n",
    "\n",
    "- Random Forest Classifier\n",
    "- Extra Trees Classifier\n",
    "- XGBoost Classifier\n",
    "\n",
    "Later we will fine-tune the models."
   ]
  },
  {
   "cell_type": "code",
   "execution_count": 20,
   "id": "41cc8db3",
   "metadata": {},
   "outputs": [],
   "source": [
    "from sklearn.model_selection import train_test_split\n",
    "from sklearn.model_selection import KFold\n",
    "\n",
    "from sklearn.ensemble import RandomForestClassifier, ExtraTreesClassifier\n",
    "from xgboost import XGBClassifier\n",
    "from sklearn.metrics import roc_auc_score"
   ]
  },
  {
   "cell_type": "code",
   "execution_count": 21,
   "id": "14c0d38c",
   "metadata": {},
   "outputs": [],
   "source": [
    "df_full_train, df_test = train_test_split(df, test_size=0.2, random_state=1)"
   ]
  },
  {
   "cell_type": "markdown",
   "id": "68ad8de7",
   "metadata": {},
   "source": [
    "## Train Random Forest"
   ]
  },
  {
   "cell_type": "code",
   "execution_count": 22,
   "id": "26484423",
   "metadata": {},
   "outputs": [
    {
     "name": "stdout",
     "output_type": "stream",
     "text": [
      "0.835 +- 0.013\n"
     ]
    }
   ],
   "source": [
    "kfold = KFold(n_splits= 5, shuffle=True, random_state=1)\n",
    "\n",
    "scores = []\n",
    "\n",
    "rfc= RandomForestClassifier(random_state = 42)\n",
    "\n",
    "for train_idx, val_idx in kfold.split(df_full_train):\n",
    "    df_train = df_full_train.iloc[train_idx]\n",
    "    df_val = df_full_train.iloc[val_idx]\n",
    "\n",
    "    y_train = df_train.occurrenceStatus.values\n",
    "    y_val = df_val.occurrenceStatus.values\n",
    "\n",
    "    rfc.fit(df_train[vars], y_train)\n",
    "    y_pred = rfc.predict_proba(df_val[vars])[:, 1]\n",
    "    auc = roc_auc_score(y_val, y_pred)\n",
    "    scores.append(auc)\n",
    "\n",
    "print('%.3f +- %.3f' % (np.mean(scores), np.std(scores)))"
   ]
  },
  {
   "cell_type": "markdown",
   "id": "13f814c6",
   "metadata": {},
   "source": [
    "## Train ExtraTrees"
   ]
  },
  {
   "cell_type": "code",
   "execution_count": 23,
   "id": "7c6ec9eb",
   "metadata": {},
   "outputs": [
    {
     "name": "stdout",
     "output_type": "stream",
     "text": [
      "0.655 +- 0.015\n"
     ]
    }
   ],
   "source": [
    "kfold = KFold(n_splits= 5, shuffle=True, random_state=1)\n",
    "\n",
    "scores = []\n",
    "\n",
    "xtree= ExtraTreesClassifier(random_state = 42)\n",
    "\n",
    "for train_idx, val_idx in kfold.split(df_full_train):\n",
    "    df_train = df_full_train.iloc[train_idx]\n",
    "    df_val = df_full_train.iloc[val_idx]\n",
    "\n",
    "    y_train = df_train.occurrenceStatus.values\n",
    "    y_val = df_val.occurrenceStatus.values\n",
    "\n",
    "    xtree.fit(df_train[vars], y_train)\n",
    "    y_pred = xtree.predict_proba(df_val[vars])[:, 1]\n",
    "    auc = roc_auc_score(y_val, y_pred)\n",
    "    scores.append(auc)\n",
    "\n",
    "    auc = roc_auc_score(y_val, y_pred)\n",
    "    scores.append(auc)\n",
    "\n",
    "print('%.3f +- %.3f' % (np.mean(scores), np.std(scores)))"
   ]
  },
  {
   "cell_type": "markdown",
   "id": "dd9e8d84",
   "metadata": {},
   "source": [
    "## Train XGBoost"
   ]
  },
  {
   "cell_type": "code",
   "execution_count": 24,
   "id": "0c07850d",
   "metadata": {},
   "outputs": [
    {
     "name": "stdout",
     "output_type": "stream",
     "text": [
      "0.857 +- 0.013\n"
     ]
    }
   ],
   "source": [
    "kfold = KFold(n_splits= 5, shuffle=True, random_state=1)\n",
    "\n",
    "scores = []\n",
    "\n",
    "xgb= XGBClassifier(random_state = 42)\n",
    "\n",
    "for train_idx, val_idx in kfold.split(df_full_train):\n",
    "    df_train = df_full_train.iloc[train_idx]\n",
    "    df_val = df_full_train.iloc[val_idx]\n",
    "\n",
    "    y_train = df_train.occurrenceStatus.values\n",
    "    y_val = df_val.occurrenceStatus.values\n",
    "\n",
    "    xgb.fit(df_train[vars], y_train)\n",
    "    y_pred = xgb.predict_proba(df_val[vars])[:, 1]\n",
    "    auc = roc_auc_score(y_val, y_pred)\n",
    "    scores.append(auc)\n",
    "\n",
    "    auc = roc_auc_score(y_val, y_pred)\n",
    "    scores.append(auc)\n",
    "\n",
    "print('%.3f +- %.3f' % (np.mean(scores), np.std(scores)))"
   ]
  },
  {
   "cell_type": "markdown",
   "id": "876d09ed",
   "metadata": {},
   "source": [
    "# Model Tunning"
   ]
  },
  {
   "cell_type": "code",
   "execution_count": 25,
   "id": "d5250c21",
   "metadata": {},
   "outputs": [],
   "source": [
    "df_train, df_val = train_test_split(df_full_train, test_size=0.25, random_state=1)\n",
    "\n",
    "df_train = df_train.reset_index(drop=True)\n",
    "df_val = df_val.reset_index(drop=True)\n",
    "df_test = df_test.reset_index(drop=True)\n",
    "\n",
    "y_train = df_tra\n",
    "del df_val['occurrenceStatus']in.occurrenceStatus.values\n",
    "y_val = df_val.occurrenceStatus.values\n",
    "y_test = df_test.occurrenceStatus.values\n",
    "\n",
    "del df_train['occurrenceStatus']\n",
    "del df_test['occurrenceStatus']"
   ]
  },
  {
   "cell_type": "markdown",
   "id": "33abbfe0",
   "metadata": {},
   "source": [
    "## Random Forest"
   ]
  },
  {
   "cell_type": "code",
   "execution_count": 26,
   "id": "9a846ec7",
   "metadata": {},
   "outputs": [
    {
     "data": {
      "text/plain": [
       "0.824"
      ]
     },
     "execution_count": 26,
     "metadata": {},
     "output_type": "execute_result"
    }
   ],
   "source": [
    "rfc = RandomForestClassifier(random_state=42)\n",
    "rfc.fit(df_train[vars], y_train)\n",
    "y_pred = rfc.predict_proba(df_val[vars])[:, 1]\n",
    "auc = round(roc_auc_score(y_val, y_pred),3)\n",
    "auc"
   ]
  },
  {
   "cell_type": "markdown",
   "id": "cb75f492",
   "metadata": {},
   "source": [
    "### Tunning n_estimators"
   ]
  },
  {
   "cell_type": "code",
   "execution_count": 27,
   "id": "b5cd283c",
   "metadata": {},
   "outputs": [],
   "source": [
    "scores = []\n",
    "for n in range(10, 201, 10):\n",
    "    rfc = RandomForestClassifier(n_estimators=n, random_state=42, n_jobs=-1)\n",
    "    rfc.fit(df_train[vars], y_train)\n",
    "    y_pred = rfc.predict_proba(df_val[vars])[:, 1]\n",
    "    auc = round(roc_auc_score(y_val, y_pred),3)\n",
    "    scores.append((n, auc))"
   ]
  },
  {
   "cell_type": "code",
   "execution_count": 28,
   "id": "449711e9",
   "metadata": {},
   "outputs": [
    {
     "data": {
      "text/html": [
       "<div>\n",
       "<style scoped>\n",
       "    .dataframe tbody tr th:only-of-type {\n",
       "        vertical-align: middle;\n",
       "    }\n",
       "\n",
       "    .dataframe tbody tr th {\n",
       "        vertical-align: top;\n",
       "    }\n",
       "\n",
       "    .dataframe thead th {\n",
       "        text-align: right;\n",
       "    }\n",
       "</style>\n",
       "<table border=\"1\" class=\"dataframe\">\n",
       "  <thead>\n",
       "    <tr style=\"text-align: right;\">\n",
       "      <th></th>\n",
       "      <th>n_estimators</th>\n",
       "      <th>auc</th>\n",
       "    </tr>\n",
       "  </thead>\n",
       "  <tbody>\n",
       "    <tr>\n",
       "      <th>3</th>\n",
       "      <td>40</td>\n",
       "      <td>0.824</td>\n",
       "    </tr>\n",
       "    <tr>\n",
       "      <th>8</th>\n",
       "      <td>90</td>\n",
       "      <td>0.824</td>\n",
       "    </tr>\n",
       "    <tr>\n",
       "      <th>9</th>\n",
       "      <td>100</td>\n",
       "      <td>0.824</td>\n",
       "    </tr>\n",
       "  </tbody>\n",
       "</table>\n",
       "</div>"
      ],
      "text/plain": [
       "   n_estimators    auc\n",
       "3            40  0.824\n",
       "8            90  0.824\n",
       "9           100  0.824"
      ]
     },
     "execution_count": 28,
     "metadata": {},
     "output_type": "execute_result"
    }
   ],
   "source": [
    "columns = ['n_estimators', 'auc']\n",
    "df_scores = pd.DataFrame(scores, columns=columns)\n",
    "df_scores[df_scores['auc']== df_scores['auc'].max()]"
   ]
  },
  {
   "cell_type": "markdown",
   "id": "921db9ec",
   "metadata": {},
   "source": [
    "We choose n_estimators=100"
   ]
  },
  {
   "cell_type": "markdown",
   "id": "eab59c78",
   "metadata": {},
   "source": [
    "### Tunning max_depth"
   ]
  },
  {
   "cell_type": "code",
   "execution_count": 29,
   "id": "551cb3bd",
   "metadata": {},
   "outputs": [],
   "source": [
    "scores = []\n",
    "n =100\n",
    "for d in [5, 10, 15, 20, 25]:\n",
    "    rfc = RandomForestClassifier(n_estimators=n, max_depth=d, random_state=42, n_jobs=-1)\n",
    "    rfc.fit(df_train[vars], y_train)\n",
    "    y_pred = rfc.predict_proba(df_val[vars])[:, 1]\n",
    "    auc = round(roc_auc_score(y_val, y_pred),3)\n",
    "    scores.append((d,auc))"
   ]
  },
  {
   "cell_type": "code",
   "execution_count": 30,
   "id": "72baa8b7",
   "metadata": {},
   "outputs": [
    {
     "data": {
      "text/html": [
       "<div>\n",
       "<style scoped>\n",
       "    .dataframe tbody tr th:only-of-type {\n",
       "        vertical-align: middle;\n",
       "    }\n",
       "\n",
       "    .dataframe tbody tr th {\n",
       "        vertical-align: top;\n",
       "    }\n",
       "\n",
       "    .dataframe thead th {\n",
       "        text-align: right;\n",
       "    }\n",
       "</style>\n",
       "<table border=\"1\" class=\"dataframe\">\n",
       "  <thead>\n",
       "    <tr style=\"text-align: right;\">\n",
       "      <th></th>\n",
       "      <th>max_depth</th>\n",
       "      <th>auc</th>\n",
       "    </tr>\n",
       "  </thead>\n",
       "  <tbody>\n",
       "    <tr>\n",
       "      <th>0</th>\n",
       "      <td>5</td>\n",
       "      <td>0.895</td>\n",
       "    </tr>\n",
       "  </tbody>\n",
       "</table>\n",
       "</div>"
      ],
      "text/plain": [
       "   max_depth    auc\n",
       "0          5  0.895"
      ]
     },
     "execution_count": 30,
     "metadata": {},
     "output_type": "execute_result"
    }
   ],
   "source": [
    "columns = ['max_depth', 'auc']\n",
    "df_scores = pd.DataFrame(scores, columns=columns)\n",
    "df_scores[df_scores['auc']== df_scores['auc'].max()]"
   ]
  },
  {
   "cell_type": "markdown",
   "id": "24822f68",
   "metadata": {},
   "source": [
    "We choose max_depth=5"
   ]
  },
  {
   "cell_type": "markdown",
   "id": "0d8bf408",
   "metadata": {},
   "source": [
    "### Tunning min_samples_leaf"
   ]
  },
  {
   "cell_type": "code",
   "execution_count": 31,
   "id": "2052f285",
   "metadata": {},
   "outputs": [],
   "source": [
    "scores = []\n",
    "n=100\n",
    "depth=5\n",
    "for msl in [1, 5, 10, 25, 50]:\n",
    "    rfc = RandomForestClassifier(n_estimators=n, max_depth=depth, min_samples_leaf = msl, random_state=42, n_jobs=-1)\n",
    "    rfc.fit(df_train[vars], y_train)\n",
    "    y_pred = rfc.predict_proba(df_val[vars])[:, 1]\n",
    "    auc = round(roc_auc_score(y_val, y_pred),3)\n",
    "    scores.append((msl,auc))"
   ]
  },
  {
   "cell_type": "code",
   "execution_count": 32,
   "id": "c5406f6d",
   "metadata": {},
   "outputs": [
    {
     "data": {
      "text/html": [
       "<div>\n",
       "<style scoped>\n",
       "    .dataframe tbody tr th:only-of-type {\n",
       "        vertical-align: middle;\n",
       "    }\n",
       "\n",
       "    .dataframe tbody tr th {\n",
       "        vertical-align: top;\n",
       "    }\n",
       "\n",
       "    .dataframe thead th {\n",
       "        text-align: right;\n",
       "    }\n",
       "</style>\n",
       "<table border=\"1\" class=\"dataframe\">\n",
       "  <thead>\n",
       "    <tr style=\"text-align: right;\">\n",
       "      <th></th>\n",
       "      <th>min_sample_leaf</th>\n",
       "      <th>auc</th>\n",
       "    </tr>\n",
       "  </thead>\n",
       "  <tbody>\n",
       "    <tr>\n",
       "      <th>0</th>\n",
       "      <td>1</td>\n",
       "      <td>0.895</td>\n",
       "    </tr>\n",
       "    <tr>\n",
       "      <th>2</th>\n",
       "      <td>10</td>\n",
       "      <td>0.895</td>\n",
       "    </tr>\n",
       "  </tbody>\n",
       "</table>\n",
       "</div>"
      ],
      "text/plain": [
       "   min_sample_leaf    auc\n",
       "0                1  0.895\n",
       "2               10  0.895"
      ]
     },
     "execution_count": 32,
     "metadata": {},
     "output_type": "execute_result"
    }
   ],
   "source": [
    "columns = ['min_sample_leaf', 'auc']\n",
    "df_scores = pd.DataFrame(scores, columns=columns)\n",
    "df_scores[df_scores['auc']== df_scores['auc'].max()]"
   ]
  },
  {
   "cell_type": "markdown",
   "id": "00b38354",
   "metadata": {},
   "source": [
    "We choose min_samples_leaf=1"
   ]
  },
  {
   "cell_type": "markdown",
   "id": "c8ee5b8b",
   "metadata": {},
   "source": [
    "### Train model with new parameters"
   ]
  },
  {
   "cell_type": "code",
   "execution_count": 33,
   "id": "b1f2230c",
   "metadata": {},
   "outputs": [
    {
     "data": {
      "text/plain": [
       "0.895"
      ]
     },
     "execution_count": 33,
     "metadata": {},
     "output_type": "execute_result"
    }
   ],
   "source": [
    "rfc = RandomForestClassifier(n_estimators=100, max_depth=5, min_samples_leaf = 1, random_state=42, n_jobs=-1)\n",
    "rfc.fit(df_train[vars], y_train)\n",
    "y_pred = rfc.predict_proba(df_val[vars])[:, 1]\n",
    "auc = round(roc_auc_score(y_val, y_pred),3)\n",
    "auc"
   ]
  },
  {
   "cell_type": "markdown",
   "id": "d6843f97",
   "metadata": {},
   "source": [
    "One of the best configuration for the Random Forest model is: n_estimators = 100, max_depth = 5 and min_samples_leaf = 1.\n",
    "\n",
    "With these parameters the roc_auc_score is 0.895."
   ]
  },
  {
   "cell_type": "markdown",
   "id": "52de13a9",
   "metadata": {},
   "source": [
    "## Extra Trees"
   ]
  },
  {
   "cell_type": "code",
   "execution_count": 34,
   "id": "4478440a",
   "metadata": {},
   "outputs": [
    {
     "data": {
      "text/plain": [
       "0.664"
      ]
     },
     "execution_count": 34,
     "metadata": {},
     "output_type": "execute_result"
    }
   ],
   "source": [
    "xtree= ExtraTreesClassifier(random_state = 42)\n",
    "xtree.fit(df_train[vars], y_train)\n",
    "y_pred = xtree.predict_proba(df_val[vars])[:, 1]\n",
    "auc = round(roc_auc_score(y_val, y_pred),3)\n",
    "auc"
   ]
  },
  {
   "cell_type": "markdown",
   "id": "dfcb3a10",
   "metadata": {},
   "source": [
    "### Tunning n_estimators"
   ]
  },
  {
   "cell_type": "code",
   "execution_count": 35,
   "id": "fbb69365",
   "metadata": {},
   "outputs": [],
   "source": [
    "scores = []\n",
    "for n in range(5, 206, 10):\n",
    "    xtree= ExtraTreesClassifier(n_estimators=n, random_state=42, n_jobs=-1)\n",
    "    xtree.fit(df_train[vars], y_train)\n",
    "    y_pred = xtree.predict_proba(df_val[vars])[:, 1]\n",
    "    auc = round(roc_auc_score(y_val, y_pred),3)\n",
    "    scores.append((n, auc))"
   ]
  },
  {
   "cell_type": "code",
   "execution_count": 36,
   "id": "165f620e",
   "metadata": {},
   "outputs": [
    {
     "data": {
      "text/html": [
       "<div>\n",
       "<style scoped>\n",
       "    .dataframe tbody tr th:only-of-type {\n",
       "        vertical-align: middle;\n",
       "    }\n",
       "\n",
       "    .dataframe tbody tr th {\n",
       "        vertical-align: top;\n",
       "    }\n",
       "\n",
       "    .dataframe thead th {\n",
       "        text-align: right;\n",
       "    }\n",
       "</style>\n",
       "<table border=\"1\" class=\"dataframe\">\n",
       "  <thead>\n",
       "    <tr style=\"text-align: right;\">\n",
       "      <th></th>\n",
       "      <th>n_estimators</th>\n",
       "      <th>auc</th>\n",
       "    </tr>\n",
       "  </thead>\n",
       "  <tbody>\n",
       "    <tr>\n",
       "      <th>0</th>\n",
       "      <td>5</td>\n",
       "      <td>0.694</td>\n",
       "    </tr>\n",
       "  </tbody>\n",
       "</table>\n",
       "</div>"
      ],
      "text/plain": [
       "   n_estimators    auc\n",
       "0             5  0.694"
      ]
     },
     "execution_count": 36,
     "metadata": {},
     "output_type": "execute_result"
    }
   ],
   "source": [
    "columns = ['n_estimators', 'auc']\n",
    "df_scores = pd.DataFrame(scores, columns=columns)\n",
    "df_scores[df_scores['auc']== df_scores['auc'].max()]"
   ]
  },
  {
   "cell_type": "markdown",
   "id": "05a022c2",
   "metadata": {},
   "source": [
    "We choose n_estimators=5"
   ]
  },
  {
   "cell_type": "markdown",
   "id": "bfb6203e",
   "metadata": {},
   "source": [
    "### Tunning max_depth"
   ]
  },
  {
   "cell_type": "code",
   "execution_count": 37,
   "id": "69219f33",
   "metadata": {},
   "outputs": [],
   "source": [
    "scores = []\n",
    "n =5\n",
    "for d in [3, 5, 10, 15, 20, 25]:\n",
    "    xtree= ExtraTreesClassifier(n_estimators=n, max_depth=d, random_state=42, n_jobs=-1)\n",
    "    xtree.fit(df_train[vars], y_train)\n",
    "    y_pred = xtree.predict_proba(df_val[vars])[:, 1]\n",
    "    auc = round(roc_auc_score(y_val, y_pred),3)\n",
    "    scores.append((d,auc))"
   ]
  },
  {
   "cell_type": "code",
   "execution_count": 38,
   "id": "e11bb031",
   "metadata": {
    "scrolled": true
   },
   "outputs": [
    {
     "data": {
      "text/html": [
       "<div>\n",
       "<style scoped>\n",
       "    .dataframe tbody tr th:only-of-type {\n",
       "        vertical-align: middle;\n",
       "    }\n",
       "\n",
       "    .dataframe tbody tr th {\n",
       "        vertical-align: top;\n",
       "    }\n",
       "\n",
       "    .dataframe thead th {\n",
       "        text-align: right;\n",
       "    }\n",
       "</style>\n",
       "<table border=\"1\" class=\"dataframe\">\n",
       "  <thead>\n",
       "    <tr style=\"text-align: right;\">\n",
       "      <th></th>\n",
       "      <th>max_depth</th>\n",
       "      <th>auc</th>\n",
       "    </tr>\n",
       "  </thead>\n",
       "  <tbody>\n",
       "    <tr>\n",
       "      <th>2</th>\n",
       "      <td>10</td>\n",
       "      <td>0.886</td>\n",
       "    </tr>\n",
       "  </tbody>\n",
       "</table>\n",
       "</div>"
      ],
      "text/plain": [
       "   max_depth    auc\n",
       "2         10  0.886"
      ]
     },
     "execution_count": 38,
     "metadata": {},
     "output_type": "execute_result"
    }
   ],
   "source": [
    "columns = ['max_depth', 'auc']\n",
    "df_scores = pd.DataFrame(scores, columns=columns)\n",
    "df_scores[df_scores['auc']== df_scores['auc'].max()]"
   ]
  },
  {
   "cell_type": "markdown",
   "id": "c04014de",
   "metadata": {},
   "source": [
    "We choose max_depth= 10"
   ]
  },
  {
   "cell_type": "markdown",
   "id": "a16ea970",
   "metadata": {},
   "source": [
    "### Tunning min_samples_leaf"
   ]
  },
  {
   "cell_type": "code",
   "execution_count": 39,
   "id": "d90a74d7",
   "metadata": {},
   "outputs": [],
   "source": [
    "scores = []\n",
    "n = 5\n",
    "d= 10\n",
    "for msl in [1, 2, 5, 10, 20, 30]:\n",
    "    xtree= ExtraTreesClassifier(n_estimators=n, max_depth=d, min_samples_leaf = msl, random_state=42, n_jobs=-1)\n",
    "    xtree.fit(df_train[vars], y_train)\n",
    "    y_pred = xtree.predict_proba(df_val[vars])[:, 1]\n",
    "    auc = round(roc_auc_score(y_val, y_pred),3)\n",
    "    scores.append((msl, auc))"
   ]
  },
  {
   "cell_type": "code",
   "execution_count": 40,
   "id": "c40bef07",
   "metadata": {},
   "outputs": [
    {
     "data": {
      "text/html": [
       "<div>\n",
       "<style scoped>\n",
       "    .dataframe tbody tr th:only-of-type {\n",
       "        vertical-align: middle;\n",
       "    }\n",
       "\n",
       "    .dataframe tbody tr th {\n",
       "        vertical-align: top;\n",
       "    }\n",
       "\n",
       "    .dataframe thead th {\n",
       "        text-align: right;\n",
       "    }\n",
       "</style>\n",
       "<table border=\"1\" class=\"dataframe\">\n",
       "  <thead>\n",
       "    <tr style=\"text-align: right;\">\n",
       "      <th></th>\n",
       "      <th>min_sample_leaf</th>\n",
       "      <th>auc</th>\n",
       "    </tr>\n",
       "  </thead>\n",
       "  <tbody>\n",
       "    <tr>\n",
       "      <th>3</th>\n",
       "      <td>10</td>\n",
       "      <td>0.892</td>\n",
       "    </tr>\n",
       "  </tbody>\n",
       "</table>\n",
       "</div>"
      ],
      "text/plain": [
       "   min_sample_leaf    auc\n",
       "3               10  0.892"
      ]
     },
     "execution_count": 40,
     "metadata": {},
     "output_type": "execute_result"
    }
   ],
   "source": [
    "columns = ['min_sample_leaf', 'auc']\n",
    "df_scores = pd.DataFrame(scores, columns=columns)\n",
    "df_scores[df_scores['auc']== df_scores['auc'].max()]"
   ]
  },
  {
   "cell_type": "markdown",
   "id": "c8b71d25",
   "metadata": {},
   "source": [
    "We choose min_samples_leaf= 10"
   ]
  },
  {
   "cell_type": "markdown",
   "id": "e9183e4b",
   "metadata": {},
   "source": [
    "### Train model with new parameters"
   ]
  },
  {
   "cell_type": "code",
   "execution_count": 41,
   "id": "f623ef18",
   "metadata": {},
   "outputs": [
    {
     "data": {
      "text/plain": [
       "0.892"
      ]
     },
     "execution_count": 41,
     "metadata": {},
     "output_type": "execute_result"
    }
   ],
   "source": [
    "xtree= ExtraTreesClassifier(n_estimators=5, max_depth=10, min_samples_leaf = 10, random_state=42, n_jobs=-1)\n",
    "xtree.fit(df_train[vars], y_train)\n",
    "y_pred = xtree.predict_proba(df_val[vars])[:, 1]\n",
    "auc = round(roc_auc_score(y_val, y_pred),3)\n",
    "auc"
   ]
  },
  {
   "cell_type": "markdown",
   "id": "69669d89",
   "metadata": {},
   "source": [
    "One of the best configuration for the Extra Trees model is: n_estimators = 5, max_depth = 10 and min_samples_leaf = 10.\n",
    "\n",
    "With these parameters the roc_auc_score is 0.892."
   ]
  },
  {
   "cell_type": "markdown",
   "id": "f17d2580",
   "metadata": {},
   "source": [
    "## XGBoost"
   ]
  },
  {
   "cell_type": "code",
   "execution_count": 42,
   "id": "306147d2",
   "metadata": {},
   "outputs": [
    {
     "data": {
      "text/plain": [
       "0.837"
      ]
     },
     "execution_count": 42,
     "metadata": {},
     "output_type": "execute_result"
    }
   ],
   "source": [
    "xgb= XGBClassifier(random_state = 42)\n",
    "xgb.fit(df_train[vars], y_train)\n",
    "y_pred = xgb.predict_proba(df_val[vars])[:, 1]\n",
    "auc = round(roc_auc_score(y_val, y_pred),3)\n",
    "auc"
   ]
  },
  {
   "cell_type": "markdown",
   "id": "f6b8615e",
   "metadata": {},
   "source": [
    "### Tunning n_estimators"
   ]
  },
  {
   "cell_type": "code",
   "execution_count": 43,
   "id": "27f764bf",
   "metadata": {},
   "outputs": [],
   "source": [
    "scores = []\n",
    "for n in range(5, 206, 10):\n",
    "    xgb= XGBClassifier(n_estimators=n, random_state=42, n_jobs=-1)\n",
    "    xgb.fit(df_train[vars], y_train)\n",
    "    y_pred = xgb.predict_proba(df_val[vars])[:, 1]\n",
    "    auc = round(roc_auc_score(y_val, y_pred),3)\n",
    "    scores.append((n, auc))"
   ]
  },
  {
   "cell_type": "code",
   "execution_count": 44,
   "id": "e50ee09d",
   "metadata": {},
   "outputs": [
    {
     "data": {
      "text/html": [
       "<div>\n",
       "<style scoped>\n",
       "    .dataframe tbody tr th:only-of-type {\n",
       "        vertical-align: middle;\n",
       "    }\n",
       "\n",
       "    .dataframe tbody tr th {\n",
       "        vertical-align: top;\n",
       "    }\n",
       "\n",
       "    .dataframe thead th {\n",
       "        text-align: right;\n",
       "    }\n",
       "</style>\n",
       "<table border=\"1\" class=\"dataframe\">\n",
       "  <thead>\n",
       "    <tr style=\"text-align: right;\">\n",
       "      <th></th>\n",
       "      <th>n_estimators</th>\n",
       "      <th>auc</th>\n",
       "    </tr>\n",
       "  </thead>\n",
       "  <tbody>\n",
       "    <tr>\n",
       "      <th>0</th>\n",
       "      <td>5</td>\n",
       "      <td>0.888</td>\n",
       "    </tr>\n",
       "  </tbody>\n",
       "</table>\n",
       "</div>"
      ],
      "text/plain": [
       "   n_estimators    auc\n",
       "0             5  0.888"
      ]
     },
     "execution_count": 44,
     "metadata": {},
     "output_type": "execute_result"
    }
   ],
   "source": [
    "columns = ['n_estimators', 'auc']\n",
    "df_scores = pd.DataFrame(scores, columns=columns)\n",
    "df_scores[df_scores['auc']== df_scores['auc'].max()]"
   ]
  },
  {
   "cell_type": "markdown",
   "id": "190cc2fa",
   "metadata": {},
   "source": [
    "We choose n_estimators = 5"
   ]
  },
  {
   "cell_type": "markdown",
   "id": "1a4770ed",
   "metadata": {},
   "source": [
    "### Tunning eta"
   ]
  },
  {
   "cell_type": "code",
   "execution_count": 45,
   "id": "e262d220",
   "metadata": {},
   "outputs": [],
   "source": [
    "scores = []\n",
    "n=5\n",
    "for e in [0.01, 0.1, 0.2, 0.3, 0.5]:\n",
    "    xgb= XGBClassifier(n_estimators=n, eta=e, random_state=42, n_jobs=-1)\n",
    "    xgb.fit(df_train[vars], y_train)\n",
    "    y_pred = xgb.predict_proba(df_val[vars])[:, 1]\n",
    "    auc = round(roc_auc_score(y_val, y_pred),3)\n",
    "    scores.append((e, auc))"
   ]
  },
  {
   "cell_type": "code",
   "execution_count": 46,
   "id": "3feeb58c",
   "metadata": {},
   "outputs": [
    {
     "data": {
      "text/html": [
       "<div>\n",
       "<style scoped>\n",
       "    .dataframe tbody tr th:only-of-type {\n",
       "        vertical-align: middle;\n",
       "    }\n",
       "\n",
       "    .dataframe tbody tr th {\n",
       "        vertical-align: top;\n",
       "    }\n",
       "\n",
       "    .dataframe thead th {\n",
       "        text-align: right;\n",
       "    }\n",
       "</style>\n",
       "<table border=\"1\" class=\"dataframe\">\n",
       "  <thead>\n",
       "    <tr style=\"text-align: right;\">\n",
       "      <th></th>\n",
       "      <th>eta</th>\n",
       "      <th>auc</th>\n",
       "    </tr>\n",
       "  </thead>\n",
       "  <tbody>\n",
       "    <tr>\n",
       "      <th>1</th>\n",
       "      <td>0.1</td>\n",
       "      <td>0.892</td>\n",
       "    </tr>\n",
       "  </tbody>\n",
       "</table>\n",
       "</div>"
      ],
      "text/plain": [
       "   eta    auc\n",
       "1  0.1  0.892"
      ]
     },
     "execution_count": 46,
     "metadata": {},
     "output_type": "execute_result"
    }
   ],
   "source": [
    "columns = ['eta', 'auc']\n",
    "df_scores = pd.DataFrame(scores, columns=columns)\n",
    "df_scores[df_scores['auc']== df_scores['auc'].max()]"
   ]
  },
  {
   "cell_type": "markdown",
   "id": "8d87b0dc",
   "metadata": {},
   "source": [
    "We choose eta= 0.1"
   ]
  },
  {
   "cell_type": "markdown",
   "id": "07f09464",
   "metadata": {},
   "source": [
    "### Tunning max_depth"
   ]
  },
  {
   "cell_type": "code",
   "execution_count": 47,
   "id": "66740c56",
   "metadata": {},
   "outputs": [],
   "source": [
    "scores = []\n",
    "n= 5\n",
    "e= 0.1\n",
    "for d in [3, 6, 10, 15, 20, 25]:\n",
    "    xgb= XGBClassifier(n_estimators=n, eta=e, max_depth=d, random_state=42, n_jobs=-1)\n",
    "    xgb.fit(df_train[vars], y_train)\n",
    "    y_pred = xgb.predict_proba(df_val[vars])[:, 1]\n",
    "    auc = round(roc_auc_score(y_val, y_pred),3)\n",
    "    scores.append((d, auc))"
   ]
  },
  {
   "cell_type": "code",
   "execution_count": 48,
   "id": "f0786c37",
   "metadata": {},
   "outputs": [
    {
     "data": {
      "text/html": [
       "<div>\n",
       "<style scoped>\n",
       "    .dataframe tbody tr th:only-of-type {\n",
       "        vertical-align: middle;\n",
       "    }\n",
       "\n",
       "    .dataframe tbody tr th {\n",
       "        vertical-align: top;\n",
       "    }\n",
       "\n",
       "    .dataframe thead th {\n",
       "        text-align: right;\n",
       "    }\n",
       "</style>\n",
       "<table border=\"1\" class=\"dataframe\">\n",
       "  <thead>\n",
       "    <tr style=\"text-align: right;\">\n",
       "      <th></th>\n",
       "      <th>max_depth</th>\n",
       "      <th>auc</th>\n",
       "    </tr>\n",
       "  </thead>\n",
       "  <tbody>\n",
       "    <tr>\n",
       "      <th>1</th>\n",
       "      <td>6</td>\n",
       "      <td>0.892</td>\n",
       "    </tr>\n",
       "  </tbody>\n",
       "</table>\n",
       "</div>"
      ],
      "text/plain": [
       "   max_depth    auc\n",
       "1          6  0.892"
      ]
     },
     "execution_count": 48,
     "metadata": {},
     "output_type": "execute_result"
    }
   ],
   "source": [
    "columns = ['max_depth', 'auc']\n",
    "df_scores = pd.DataFrame(scores, columns=columns)\n",
    "df_scores[df_scores['auc']== df_scores['auc'].max()]"
   ]
  },
  {
   "cell_type": "markdown",
   "id": "d4126d40",
   "metadata": {},
   "source": [
    "We choose max_depth = 6"
   ]
  },
  {
   "cell_type": "markdown",
   "id": "e91b3714",
   "metadata": {},
   "source": [
    "### Train model with new parameters"
   ]
  },
  {
   "cell_type": "code",
   "execution_count": 49,
   "id": "1d3abf15",
   "metadata": {},
   "outputs": [
    {
     "data": {
      "text/plain": [
       "0.892"
      ]
     },
     "execution_count": 49,
     "metadata": {},
     "output_type": "execute_result"
    }
   ],
   "source": [
    "xgb= XGBClassifier(n_estimators=5, eta=0.1, max_depth=6, random_state=42, n_jobs=-1)\n",
    "xgb.fit(df_train[vars], y_train)\n",
    "y_pred = xgb.predict_proba(df_val[vars])[:, 1]\n",
    "auc = round(roc_auc_score(y_val, y_pred),3)\n",
    "auc"
   ]
  },
  {
   "cell_type": "markdown",
   "id": "e9c7f359",
   "metadata": {},
   "source": [
    "One of the best configuration for the XGBoost Classifier model is: n_estimators= 5, eta= 0.1 and max_depth= 6.\n",
    "\n",
    "With these parameters the roc_auc_score is 0.892."
   ]
  },
  {
   "cell_type": "markdown",
   "id": "ad3f9da4",
   "metadata": {},
   "source": [
    "# Choose Final Model \n",
    "\n",
    "To choose the final model, we will train the tuned models with data from df_full_train and evaluate their performance with df_test"
   ]
  },
  {
   "cell_type": "code",
   "execution_count": 50,
   "id": "1845284b",
   "metadata": {},
   "outputs": [],
   "source": [
    "df_full_train=df_full_train.reset_index(drop=True)\n",
    "y_full_train=df_full_train.occurrenceStatus.values"
   ]
  },
  {
   "cell_type": "code",
   "execution_count": 51,
   "id": "805c4b95",
   "metadata": {},
   "outputs": [
    {
     "data": {
      "text/plain": [
       "0.902"
      ]
     },
     "execution_count": 51,
     "metadata": {},
     "output_type": "execute_result"
    }
   ],
   "source": [
    "rfc = RandomForestClassifier(n_estimators=100, max_depth=5, min_samples_leaf = 1, random_state=42, n_jobs=-1)\n",
    "rfc.fit(df_full_train[vars], y_full_train)\n",
    "y_pred = rfc.predict_proba(df_test[vars])[:, 1]\n",
    "auc = round(roc_auc_score(y_test, y_pred),3)\n",
    "auc"
   ]
  },
  {
   "cell_type": "code",
   "execution_count": 52,
   "id": "ad2ce6c9",
   "metadata": {},
   "outputs": [
    {
     "data": {
      "text/plain": [
       "0.898"
      ]
     },
     "execution_count": 52,
     "metadata": {},
     "output_type": "execute_result"
    }
   ],
   "source": [
    "xtree= ExtraTreesClassifier(n_estimators=5, max_depth=10, min_samples_leaf = 10, random_state=42, n_jobs=-1)\n",
    "xtree.fit(df_full_train[vars], y_full_train)\n",
    "y_pred = xtree.predict_proba(df_test[vars])[:, 1]\n",
    "auc = round(roc_auc_score(y_test, y_pred),3)\n",
    "auc"
   ]
  },
  {
   "cell_type": "code",
   "execution_count": 53,
   "id": "4cc73005",
   "metadata": {},
   "outputs": [
    {
     "data": {
      "text/plain": [
       "0.899"
      ]
     },
     "execution_count": 53,
     "metadata": {},
     "output_type": "execute_result"
    }
   ],
   "source": [
    "xgb= XGBClassifier(n_estimators=5, eta=0.1, max_depth=6, random_state=42, n_jobs=-1)\n",
    "xgb.fit(df_full_train[vars], y_full_train)\n",
    "y_pred = xgb.predict_proba(df_test[vars])[:, 1]\n",
    "auc = round(roc_auc_score(y_test, y_pred),3)\n",
    "auc"
   ]
  },
  {
   "cell_type": "markdown",
   "id": "e6bd6669",
   "metadata": {},
   "source": [
    "#### The best performing model is Random Forest Classifier (n_estimators=100, max_depth=5, min_samples_leaf = 1).\n",
    "\n",
    "#### This model has a roc_auc_core= 0.902 which is slightly higher than the other models.\n",
    "\n",
    "#### We choose this model to deploy."
   ]
  }
 ],
 "metadata": {
  "kernelspec": {
   "display_name": "Python [conda env:eydata] *",
   "language": "python",
   "name": "conda-env-eydata-py"
  },
  "language_info": {
   "codemirror_mode": {
    "name": "ipython",
    "version": 3
   },
   "file_extension": ".py",
   "mimetype": "text/x-python",
   "name": "python",
   "nbconvert_exporter": "python",
   "pygments_lexer": "ipython3",
   "version": "3.8.12"
  }
 },
 "nbformat": 4,
 "nbformat_minor": 5
}
